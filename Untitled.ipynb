{
 "cells": [
  {
   "cell_type": "code",
   "execution_count": 1,
   "id": "81fa0df9",
   "metadata": {},
   "outputs": [],
   "source": [
    "import numpy as np \n",
    "import pandas as pd"
   ]
  },
  {
   "cell_type": "code",
   "execution_count": 2,
   "id": "1670e7f4",
   "metadata": {},
   "outputs": [
    {
     "data": {
      "text/html": [
       "<div>\n",
       "<style scoped>\n",
       "    .dataframe tbody tr th:only-of-type {\n",
       "        vertical-align: middle;\n",
       "    }\n",
       "\n",
       "    .dataframe tbody tr th {\n",
       "        vertical-align: top;\n",
       "    }\n",
       "\n",
       "    .dataframe thead th {\n",
       "        text-align: right;\n",
       "    }\n",
       "</style>\n",
       "<table border=\"1\" class=\"dataframe\">\n",
       "  <thead>\n",
       "    <tr style=\"text-align: right;\">\n",
       "      <th></th>\n",
       "      <th>subreddit</th>\n",
       "      <th>post_id</th>\n",
       "      <th>sentence_range</th>\n",
       "      <th>text</th>\n",
       "      <th>label</th>\n",
       "      <th>confidence</th>\n",
       "      <th>social_timestamp</th>\n",
       "    </tr>\n",
       "  </thead>\n",
       "  <tbody>\n",
       "    <tr>\n",
       "      <th>0</th>\n",
       "      <td>ptsd</td>\n",
       "      <td>8601tu</td>\n",
       "      <td>(15, 20)</td>\n",
       "      <td>He said he had not felt that way before, sugge...</td>\n",
       "      <td>1</td>\n",
       "      <td>0.8</td>\n",
       "      <td>1521614353</td>\n",
       "    </tr>\n",
       "    <tr>\n",
       "      <th>1</th>\n",
       "      <td>assistance</td>\n",
       "      <td>8lbrx9</td>\n",
       "      <td>(0, 5)</td>\n",
       "      <td>Hey there r/assistance, Not sure if this is th...</td>\n",
       "      <td>0</td>\n",
       "      <td>1.0</td>\n",
       "      <td>1527009817</td>\n",
       "    </tr>\n",
       "    <tr>\n",
       "      <th>2</th>\n",
       "      <td>ptsd</td>\n",
       "      <td>9ch1zh</td>\n",
       "      <td>(15, 20)</td>\n",
       "      <td>My mom then hit me with the newspaper and it s...</td>\n",
       "      <td>1</td>\n",
       "      <td>0.8</td>\n",
       "      <td>1535935605</td>\n",
       "    </tr>\n",
       "    <tr>\n",
       "      <th>3</th>\n",
       "      <td>relationships</td>\n",
       "      <td>7rorpp</td>\n",
       "      <td>[5, 10]</td>\n",
       "      <td>until i met my new boyfriend, he is amazing, h...</td>\n",
       "      <td>1</td>\n",
       "      <td>0.6</td>\n",
       "      <td>1516429555</td>\n",
       "    </tr>\n",
       "    <tr>\n",
       "      <th>4</th>\n",
       "      <td>survivorsofabuse</td>\n",
       "      <td>9p2gbc</td>\n",
       "      <td>[0, 5]</td>\n",
       "      <td>October is Domestic Violence Awareness Month a...</td>\n",
       "      <td>1</td>\n",
       "      <td>0.8</td>\n",
       "      <td>1539809005</td>\n",
       "    </tr>\n",
       "  </tbody>\n",
       "</table>\n",
       "</div>"
      ],
      "text/plain": [
       "          subreddit post_id sentence_range  \\\n",
       "0              ptsd  8601tu       (15, 20)   \n",
       "1        assistance  8lbrx9         (0, 5)   \n",
       "2              ptsd  9ch1zh       (15, 20)   \n",
       "3     relationships  7rorpp        [5, 10]   \n",
       "4  survivorsofabuse  9p2gbc         [0, 5]   \n",
       "\n",
       "                                                text  label  confidence  \\\n",
       "0  He said he had not felt that way before, sugge...      1         0.8   \n",
       "1  Hey there r/assistance, Not sure if this is th...      0         1.0   \n",
       "2  My mom then hit me with the newspaper and it s...      1         0.8   \n",
       "3  until i met my new boyfriend, he is amazing, h...      1         0.6   \n",
       "4  October is Domestic Violence Awareness Month a...      1         0.8   \n",
       "\n",
       "   social_timestamp  \n",
       "0        1521614353  \n",
       "1        1527009817  \n",
       "2        1535935605  \n",
       "3        1516429555  \n",
       "4        1539809005  "
      ]
     },
     "execution_count": 2,
     "metadata": {},
     "output_type": "execute_result"
    }
   ],
   "source": [
    "df = pd.read_csv(\"Stress.csv\")\n",
    "df.head()"
   ]
  },
  {
   "cell_type": "code",
   "execution_count": 3,
   "id": "778de366",
   "metadata": {},
   "outputs": [
    {
     "data": {
      "text/plain": [
       "(2838, 7)"
      ]
     },
     "execution_count": 3,
     "metadata": {},
     "output_type": "execute_result"
    }
   ],
   "source": [
    "df.shape"
   ]
  },
  {
   "cell_type": "code",
   "execution_count": 4,
   "id": "bb3d070d",
   "metadata": {},
   "outputs": [
    {
     "name": "stdout",
     "output_type": "stream",
     "text": [
      "<class 'pandas.core.frame.DataFrame'>\n",
      "RangeIndex: 2838 entries, 0 to 2837\n",
      "Data columns (total 7 columns):\n",
      " #   Column            Non-Null Count  Dtype  \n",
      "---  ------            --------------  -----  \n",
      " 0   subreddit         2838 non-null   object \n",
      " 1   post_id           2838 non-null   object \n",
      " 2   sentence_range    2838 non-null   object \n",
      " 3   text              2838 non-null   object \n",
      " 4   label             2838 non-null   int64  \n",
      " 5   confidence        2838 non-null   float64\n",
      " 6   social_timestamp  2838 non-null   int64  \n",
      "dtypes: float64(1), int64(2), object(4)\n",
      "memory usage: 155.3+ KB\n"
     ]
    }
   ],
   "source": [
    "df.info()"
   ]
  },
  {
   "cell_type": "code",
   "execution_count": 5,
   "id": "373d78e2",
   "metadata": {},
   "outputs": [],
   "source": [
    "waste = ['subreddit','post_id','sentence_range','confidence','social_timestamp']\n",
    "df1 = df.drop(waste,axis=1)"
   ]
  },
  {
   "cell_type": "code",
   "execution_count": 6,
   "id": "c8edc717",
   "metadata": {},
   "outputs": [
    {
     "data": {
      "text/html": [
       "<div>\n",
       "<style scoped>\n",
       "    .dataframe tbody tr th:only-of-type {\n",
       "        vertical-align: middle;\n",
       "    }\n",
       "\n",
       "    .dataframe tbody tr th {\n",
       "        vertical-align: top;\n",
       "    }\n",
       "\n",
       "    .dataframe thead th {\n",
       "        text-align: right;\n",
       "    }\n",
       "</style>\n",
       "<table border=\"1\" class=\"dataframe\">\n",
       "  <thead>\n",
       "    <tr style=\"text-align: right;\">\n",
       "      <th></th>\n",
       "      <th>text</th>\n",
       "      <th>label</th>\n",
       "    </tr>\n",
       "  </thead>\n",
       "  <tbody>\n",
       "    <tr>\n",
       "      <th>0</th>\n",
       "      <td>He said he had not felt that way before, sugge...</td>\n",
       "      <td>1</td>\n",
       "    </tr>\n",
       "    <tr>\n",
       "      <th>1</th>\n",
       "      <td>Hey there r/assistance, Not sure if this is th...</td>\n",
       "      <td>0</td>\n",
       "    </tr>\n",
       "    <tr>\n",
       "      <th>2</th>\n",
       "      <td>My mom then hit me with the newspaper and it s...</td>\n",
       "      <td>1</td>\n",
       "    </tr>\n",
       "    <tr>\n",
       "      <th>3</th>\n",
       "      <td>until i met my new boyfriend, he is amazing, h...</td>\n",
       "      <td>1</td>\n",
       "    </tr>\n",
       "    <tr>\n",
       "      <th>4</th>\n",
       "      <td>October is Domestic Violence Awareness Month a...</td>\n",
       "      <td>1</td>\n",
       "    </tr>\n",
       "  </tbody>\n",
       "</table>\n",
       "</div>"
      ],
      "text/plain": [
       "                                                text  label\n",
       "0  He said he had not felt that way before, sugge...      1\n",
       "1  Hey there r/assistance, Not sure if this is th...      0\n",
       "2  My mom then hit me with the newspaper and it s...      1\n",
       "3  until i met my new boyfriend, he is amazing, h...      1\n",
       "4  October is Domestic Violence Awareness Month a...      1"
      ]
     },
     "execution_count": 6,
     "metadata": {},
     "output_type": "execute_result"
    }
   ],
   "source": [
    "df1.head()"
   ]
  },
  {
   "cell_type": "markdown",
   "id": "faa14c06",
   "metadata": {},
   "source": [
    "We have removed out all the all the unnecessary columns such as subreddit posted etc Now we are left out with the text which is to be preprocessed before training the model and the labels which indicates weather the message is stressed or not"
   ]
  },
  {
   "cell_type": "code",
   "execution_count": 7,
   "id": "43ef2a7d",
   "metadata": {},
   "outputs": [
    {
     "data": {
      "text/plain": [
       "array([1, 0], dtype=int64)"
      ]
     },
     "execution_count": 7,
     "metadata": {},
     "output_type": "execute_result"
    }
   ],
   "source": [
    "df1['label'].unique()"
   ]
  },
  {
   "cell_type": "markdown",
   "id": "90a6bbc4",
   "metadata": {},
   "source": [
    "we just make sure that the label contains either Yes or no i.e., 0 or 1"
   ]
  },
  {
   "cell_type": "code",
   "execution_count": 8,
   "id": "1ee50445",
   "metadata": {},
   "outputs": [],
   "source": [
    "import nltk\n",
    "import re\n",
    "from urllib.parse import urlparse\n",
    "from spacy import load\n",
    "from nltk.stem import WordNetLemmatizer\n",
    "from nltk.corpus import stopwords\n",
    "from nltk.tokenize import word_tokenize"
   ]
  },
  {
   "cell_type": "code",
   "execution_count": 9,
   "id": "fa4c2570",
   "metadata": {},
   "outputs": [
    {
     "name": "stderr",
     "output_type": "stream",
     "text": [
      "[nltk_data] Downloading package omw-1.4 to\n",
      "[nltk_data]     C:\\Users\\Nandeesh\\AppData\\Roaming\\nltk_data...\n",
      "[nltk_data]   Package omw-1.4 is already up-to-date!\n",
      "[nltk_data] Downloading package wordnet to\n",
      "[nltk_data]     C:\\Users\\Nandeesh\\AppData\\Roaming\\nltk_data...\n",
      "[nltk_data]   Package wordnet is already up-to-date!\n",
      "[nltk_data] Downloading package wordnet2022 to\n",
      "[nltk_data]     C:\\Users\\Nandeesh\\AppData\\Roaming\\nltk_data...\n",
      "[nltk_data]   Package wordnet2022 is already up-to-date!\n",
      "[nltk_data] Downloading package punkt to\n",
      "[nltk_data]     C:\\Users\\Nandeesh\\AppData\\Roaming\\nltk_data...\n",
      "[nltk_data]   Package punkt is already up-to-date!\n",
      "[nltk_data] Downloading package stopwords to\n",
      "[nltk_data]     C:\\Users\\Nandeesh\\AppData\\Roaming\\nltk_data...\n",
      "[nltk_data]   Package stopwords is already up-to-date!\n"
     ]
    },
    {
     "data": {
      "text/plain": [
       "True"
      ]
     },
     "execution_count": 9,
     "metadata": {},
     "output_type": "execute_result"
    }
   ],
   "source": [
    "nltk.download('omw-1.4')\n",
    "nltk.download('wordnet') \n",
    "nltk.download('wordnet2022')\n",
    "nltk.download('punkt')\n",
    "nltk.download('stopwords')"
   ]
  },
  {
   "cell_type": "code",
   "execution_count": 10,
   "id": "3b533c9d",
   "metadata": {},
   "outputs": [],
   "source": [
    "lemmatizer = WordNetLemmatizer()\n",
    "stop_words = list(stopwords.words('english'))"
   ]
  },
  {
   "cell_type": "code",
   "execution_count": 11,
   "id": "33868bc4",
   "metadata": {},
   "outputs": [],
   "source": [
    "def textPocess(sent):\n",
    "    try:\n",
    "        sent = re.sub('[][)(]',' ',sent)\n",
    "        sent = [word for word in sent.split() if not urlparse(word).scheme]\n",
    "        sent = ' '.join(sent)\n",
    "        sent = re.sub(r'\\@\\w+','',sent)\n",
    "        sent = re.sub(re.compile(\"<.*?>\"),'',sent)\n",
    "        sent = re.sub(\"[^A-Za-z0-9]\",' ',sent)\n",
    "        sent = sent.lower()\n",
    "        sent = [word.strip() for word in sent.split()]\n",
    "        sent = ' '.join(sent)\n",
    "        tokens = word_tokenize(sent)\n",
    "        for word in tokens:\n",
    "            if word in stop_words:\n",
    "                tokens.remove(word)\n",
    "        sent = [lemmatizer.lemmatize(word) for word in tokens]\n",
    "        sent = ' '.join(sent)\n",
    "        return sent\n",
    "    except Exception as ex:\n",
    "        print(sent,\"\\n\")\n",
    "        print(\"Error \",ex)\n"
   ]
  },
  {
   "cell_type": "code",
   "execution_count": 12,
   "id": "8995ea59",
   "metadata": {},
   "outputs": [],
   "source": [
    "df1['processed_text'] = df1['text'].apply(lambda text: textPocess(text))"
   ]
  },
  {
   "cell_type": "code",
   "execution_count": 13,
   "id": "7335111b",
   "metadata": {},
   "outputs": [
    {
     "data": {
      "text/html": [
       "<div>\n",
       "<style scoped>\n",
       "    .dataframe tbody tr th:only-of-type {\n",
       "        vertical-align: middle;\n",
       "    }\n",
       "\n",
       "    .dataframe tbody tr th {\n",
       "        vertical-align: top;\n",
       "    }\n",
       "\n",
       "    .dataframe thead th {\n",
       "        text-align: right;\n",
       "    }\n",
       "</style>\n",
       "<table border=\"1\" class=\"dataframe\">\n",
       "  <thead>\n",
       "    <tr style=\"text-align: right;\">\n",
       "      <th></th>\n",
       "      <th>text</th>\n",
       "      <th>label</th>\n",
       "      <th>processed_text</th>\n",
       "    </tr>\n",
       "  </thead>\n",
       "  <tbody>\n",
       "    <tr>\n",
       "      <th>0</th>\n",
       "      <td>He said he had not felt that way before, sugge...</td>\n",
       "      <td>1</td>\n",
       "      <td>said had felt way suggeted go rest so trigger ...</td>\n",
       "    </tr>\n",
       "    <tr>\n",
       "      <th>1</th>\n",
       "      <td>Hey there r/assistance, Not sure if this is th...</td>\n",
       "      <td>0</td>\n",
       "      <td>hey r assistance sure right place post but go ...</td>\n",
       "    </tr>\n",
       "    <tr>\n",
       "      <th>2</th>\n",
       "      <td>My mom then hit me with the newspaper and it s...</td>\n",
       "      <td>1</td>\n",
       "      <td>mom hit newspaper shocked that would this know...</td>\n",
       "    </tr>\n",
       "    <tr>\n",
       "      <th>3</th>\n",
       "      <td>until i met my new boyfriend, he is amazing, h...</td>\n",
       "      <td>1</td>\n",
       "      <td>met new boyfriend amazing kind sweet is good s...</td>\n",
       "    </tr>\n",
       "    <tr>\n",
       "      <th>4</th>\n",
       "      <td>October is Domestic Violence Awareness Month a...</td>\n",
       "      <td>1</td>\n",
       "      <td>october domestic violence awareness month dome...</td>\n",
       "    </tr>\n",
       "  </tbody>\n",
       "</table>\n",
       "</div>"
      ],
      "text/plain": [
       "                                                text  label  \\\n",
       "0  He said he had not felt that way before, sugge...      1   \n",
       "1  Hey there r/assistance, Not sure if this is th...      0   \n",
       "2  My mom then hit me with the newspaper and it s...      1   \n",
       "3  until i met my new boyfriend, he is amazing, h...      1   \n",
       "4  October is Domestic Violence Awareness Month a...      1   \n",
       "\n",
       "                                      processed_text  \n",
       "0  said had felt way suggeted go rest so trigger ...  \n",
       "1  hey r assistance sure right place post but go ...  \n",
       "2  mom hit newspaper shocked that would this know...  \n",
       "3  met new boyfriend amazing kind sweet is good s...  \n",
       "4  october domestic violence awareness month dome...  "
      ]
     },
     "execution_count": 13,
     "metadata": {},
     "output_type": "execute_result"
    }
   ],
   "source": [
    "df1.head()"
   ]
  },
  {
   "cell_type": "code",
   "execution_count": 14,
   "id": "000285a8",
   "metadata": {},
   "outputs": [
    {
     "name": "stdout",
     "output_type": "stream",
     "text": [
      "I asked him three time what happened. And after the third time I cried and went home. Month later he still don't talk to me and he and my mother started fighting for the first time in the relationship. Me and my mother honestly don't know what to do, he just ignores me. I even told him that I don't date that guy(even though I date him) and he didn't even react to it.\n",
      "\n",
      "asked three time happened after third time cried went home month later still talk mother started fighting the first time the relationship and my mother honestly know he ignores me even told don t date that guy even though i date and he didn t even react to it\n"
     ]
    }
   ],
   "source": [
    "print(df1['text'].iloc[15],end='\\n\\n')\n",
    "print(df1['processed_text'].iloc[15])"
   ]
  },
  {
   "cell_type": "markdown",
   "id": "7904a6cc",
   "metadata": {},
   "source": [
    "the above function which processed the text removed out all the unnecessary characters or the words from the text As you can see above the things like braces hashtags or any website or some stop words Everything are removed out from the text and the processor text is appended to the data frame"
   ]
  },
  {
   "cell_type": "code",
   "execution_count": 15,
   "id": "2c6efdb0",
   "metadata": {},
   "outputs": [],
   "source": [
    "from sklearn.feature_extraction.text import TfidfVectorizer"
   ]
  },
  {
   "cell_type": "code",
   "execution_count": 16,
   "id": "8a1a8fa0",
   "metadata": {},
   "outputs": [],
   "source": [
    "tfidf = TfidfVectorizer()\n",
    "X = tfidf.fit_transform(df1['processed_text'])\n",
    "y = df1['label']"
   ]
  },
  {
   "cell_type": "code",
   "execution_count": 17,
   "id": "07bc82de",
   "metadata": {},
   "outputs": [],
   "source": [
    "from sklearn.model_selection import train_test_split\n",
    "from sklearn.linear_model import LogisticRegression\n",
    "from sklearn.naive_bayes import MultinomialNB\n",
    "from sklearn.ensemble import RandomForestClassifier\n",
    "import warnings\n",
    "warnings.filterwarnings('ignore')"
   ]
  },
  {
   "cell_type": "code",
   "execution_count": 38,
   "id": "ae53a960",
   "metadata": {},
   "outputs": [],
   "source": [
    "X_train, X_test, y_train, y_test = train_test_split(X, y, test_size=0.25, random_state=101)"
   ]
  },
  {
   "cell_type": "code",
   "execution_count": 39,
   "id": "0c156c9a",
   "metadata": {},
   "outputs": [
    {
     "data": {
      "text/plain": [
       "((2128, 10267), (710,))"
      ]
     },
     "execution_count": 39,
     "metadata": {},
     "output_type": "execute_result"
    }
   ],
   "source": [
    "X_train.shape,y_test.shape"
   ]
  },
  {
   "cell_type": "code",
   "execution_count": 40,
   "id": "e52d08b9",
   "metadata": {},
   "outputs": [],
   "source": [
    "model_lr = LogisticRegression().fit(X_train,y_train)"
   ]
  },
  {
   "cell_type": "code",
   "execution_count": 41,
   "id": "2a6a8bd7",
   "metadata": {},
   "outputs": [
    {
     "data": {
      "text/plain": [
       "0.9097744360902256"
      ]
     },
     "execution_count": 41,
     "metadata": {},
     "output_type": "execute_result"
    }
   ],
   "source": [
    "model_lr.score(X_train,y_train)"
   ]
  },
  {
   "cell_type": "code",
   "execution_count": 42,
   "id": "f62ac7ef",
   "metadata": {},
   "outputs": [
    {
     "data": {
      "text/plain": [
       "0.776056338028169"
      ]
     },
     "execution_count": 42,
     "metadata": {},
     "output_type": "execute_result"
    }
   ],
   "source": [
    "model_lr.score(X_test,y_test)"
   ]
  },
  {
   "cell_type": "code",
   "execution_count": 43,
   "id": "b059c1e3",
   "metadata": {},
   "outputs": [
    {
     "data": {
      "text/plain": [
       "(0.8482142857142857, 0.7140845070422536)"
      ]
     },
     "execution_count": 43,
     "metadata": {},
     "output_type": "execute_result"
    }
   ],
   "source": [
    "model_nb = MultinomialNB().fit(X_train,y_train)\n",
    "model_nb.score(X_train,y_train),model_nb.score(X_test,y_test)"
   ]
  },
  {
   "cell_type": "code",
   "execution_count": 23,
   "id": "ce5b8eac",
   "metadata": {},
   "outputs": [],
   "source": [
    "import tensorflow as tf\n",
    "from tensorflow import keras\n",
    "from tensorflow.keras.models import Sequential\n",
    "from tensorflow.keras.layers import Dense,Dropout"
   ]
  },
  {
   "cell_type": "code",
   "execution_count": 24,
   "id": "10c11d24",
   "metadata": {},
   "outputs": [],
   "source": [
    "X_train = X_train.toarray()\n",
    "X_test = X_test.toarray()"
   ]
  },
  {
   "cell_type": "code",
   "execution_count": 25,
   "id": "6133b8c1",
   "metadata": {},
   "outputs": [],
   "source": [
    "from sklearn.preprocessing import PowerTransformer\n",
    "\n",
    "scaler = PowerTransformer()"
   ]
  },
  {
   "cell_type": "code",
   "execution_count": 26,
   "id": "cfc18094",
   "metadata": {},
   "outputs": [],
   "source": [
    "X_train=scaler.fit_transform(X_train)"
   ]
  },
  {
   "cell_type": "code",
   "execution_count": 27,
   "id": "6dcd5f93",
   "metadata": {},
   "outputs": [],
   "source": [
    "X_test=scaler.transform(X_test)"
   ]
  },
  {
   "cell_type": "code",
   "execution_count": 28,
   "id": "cabec00e",
   "metadata": {},
   "outputs": [],
   "source": [
    "from keras.regularizers import l2\n",
    "\n",
    "model = keras.Sequential([\n",
    "    keras.layers.Dense(64, activation='tanh', input_shape=(X.shape[1],), kernel_regularizer=l2(0.001)),\n",
    "    keras.layers.Dropout(0.1),\n",
    "    keras.layers.Dense(32, activation='tanh', kernel_regularizer=l2(0.001)),\n",
    "    keras.layers.Dropout(0.1),\n",
    "    keras.layers.Dense(32, activation='tanh', kernel_regularizer=l2(0.001)),\n",
    "    keras.layers.Dropout(0.1),\n",
    "    keras.layers.Dense(16, activation='tanh', kernel_regularizer=l2(0.001)),\n",
    "    keras.layers.Dropout(0.1),\n",
    "    keras.layers.Dense(8, activation='tanh', kernel_regularizer=l2(0.001)),\n",
    "    keras.layers.Dropout(0.1),\n",
    "    keras.layers.Dense(1, activation='sigmoid', kernel_regularizer=l2(0.001))\n",
    "])\n",
    "\n",
    "\n",
    "model.compile(optimizer='adam', loss='binary_crossentropy', metrics=['accuracy'])\n"
   ]
  },
  {
   "cell_type": "code",
   "execution_count": 29,
   "id": "c525f7ca",
   "metadata": {},
   "outputs": [
    {
     "name": "stdout",
     "output_type": "stream",
     "text": [
      "Epoch 1/50\n",
      "67/67 [==============================] - 7s 42ms/step - loss: 0.8421 - accuracy: 0.6189 - val_loss: 0.7363 - val_accuracy: 0.7211\n",
      "Epoch 2/50\n",
      "67/67 [==============================] - 2s 24ms/step - loss: 0.4343 - accuracy: 0.9516 - val_loss: 0.8456 - val_accuracy: 0.7127\n",
      "Epoch 3/50\n",
      "67/67 [==============================] - 2s 24ms/step - loss: 0.2640 - accuracy: 0.9901 - val_loss: 0.9754 - val_accuracy: 0.6972\n",
      "Epoch 4/50\n",
      "67/67 [==============================] - 2s 24ms/step - loss: 0.2099 - accuracy: 0.9967 - val_loss: 1.0372 - val_accuracy: 0.6972\n",
      "Epoch 5/50\n",
      "67/67 [==============================] - 2s 24ms/step - loss: 0.1802 - accuracy: 0.9977 - val_loss: 1.0794 - val_accuracy: 0.7028\n",
      "Epoch 6/50\n",
      "67/67 [==============================] - 2s 24ms/step - loss: 0.1595 - accuracy: 0.9972 - val_loss: 1.1683 - val_accuracy: 0.6761\n",
      "Epoch 7/50\n",
      "67/67 [==============================] - 2s 25ms/step - loss: 0.1443 - accuracy: 0.9958 - val_loss: 1.1454 - val_accuracy: 0.7113\n",
      "Epoch 8/50\n",
      "67/67 [==============================] - 2s 24ms/step - loss: 0.1628 - accuracy: 0.9878 - val_loss: 1.1856 - val_accuracy: 0.7056\n",
      "Epoch 9/50\n",
      "67/67 [==============================] - 2s 24ms/step - loss: 0.2889 - accuracy: 0.9450 - val_loss: 1.0553 - val_accuracy: 0.6873\n",
      "Epoch 10/50\n",
      "67/67 [==============================] - 2s 24ms/step - loss: 0.2375 - accuracy: 0.9751 - val_loss: 1.1593 - val_accuracy: 0.6972\n",
      "Epoch 11/50\n",
      "67/67 [==============================] - 2s 24ms/step - loss: 0.1819 - accuracy: 0.9939 - val_loss: 1.2857 - val_accuracy: 0.6901\n",
      "Epoch 12/50\n",
      "67/67 [==============================] - 2s 23ms/step - loss: 0.1576 - accuracy: 0.9981 - val_loss: 1.3242 - val_accuracy: 0.6915\n",
      "Epoch 13/50\n",
      "67/67 [==============================] - 2s 24ms/step - loss: 0.1438 - accuracy: 0.9981 - val_loss: 1.3507 - val_accuracy: 0.6972\n",
      "Epoch 14/50\n",
      "67/67 [==============================] - 2s 24ms/step - loss: 0.1320 - accuracy: 0.9986 - val_loss: 1.3776 - val_accuracy: 0.7014\n",
      "Epoch 15/50\n",
      "67/67 [==============================] - 2s 24ms/step - loss: 0.1243 - accuracy: 0.9981 - val_loss: 1.3717 - val_accuracy: 0.7000\n",
      "Epoch 16/50\n",
      "67/67 [==============================] - 2s 24ms/step - loss: 0.1130 - accuracy: 0.9986 - val_loss: 1.3886 - val_accuracy: 0.6986\n",
      "Epoch 17/50\n",
      "67/67 [==============================] - 2s 24ms/step - loss: 0.1059 - accuracy: 0.9981 - val_loss: 1.4551 - val_accuracy: 0.6930\n",
      "Epoch 18/50\n",
      "67/67 [==============================] - 2s 24ms/step - loss: 0.1681 - accuracy: 0.9807 - val_loss: 1.2433 - val_accuracy: 0.6944\n",
      "Epoch 19/50\n",
      "67/67 [==============================] - 2s 25ms/step - loss: 0.1854 - accuracy: 0.9803 - val_loss: 1.2294 - val_accuracy: 0.6775\n",
      "Epoch 20/50\n",
      "67/67 [==============================] - 2s 24ms/step - loss: 0.1617 - accuracy: 0.9915 - val_loss: 1.4451 - val_accuracy: 0.6746\n",
      "Epoch 21/50\n",
      "67/67 [==============================] - 2s 24ms/step - loss: 0.1462 - accuracy: 0.9967 - val_loss: 1.4851 - val_accuracy: 0.6732\n",
      "Epoch 22/50\n",
      "67/67 [==============================] - 2s 24ms/step - loss: 0.1314 - accuracy: 0.9967 - val_loss: 1.4993 - val_accuracy: 0.6761\n",
      "Epoch 23/50\n",
      "67/67 [==============================] - 2s 24ms/step - loss: 0.1264 - accuracy: 0.9977 - val_loss: 1.4297 - val_accuracy: 0.7000\n",
      "Epoch 24/50\n",
      "67/67 [==============================] - 2s 24ms/step - loss: 0.1107 - accuracy: 0.9991 - val_loss: 1.4581 - val_accuracy: 0.7028\n",
      "Epoch 25/50\n",
      "67/67 [==============================] - 2s 24ms/step - loss: 0.1081 - accuracy: 0.9972 - val_loss: 1.4419 - val_accuracy: 0.6958\n",
      "Epoch 26/50\n",
      "67/67 [==============================] - 2s 24ms/step - loss: 0.0967 - accuracy: 0.9986 - val_loss: 1.4855 - val_accuracy: 0.6958\n",
      "Epoch 27/50\n",
      "67/67 [==============================] - 2s 24ms/step - loss: 0.0913 - accuracy: 0.9977 - val_loss: 1.4547 - val_accuracy: 0.7042\n",
      "Epoch 28/50\n",
      "67/67 [==============================] - 2s 24ms/step - loss: 0.0881 - accuracy: 0.9977 - val_loss: 1.4433 - val_accuracy: 0.6986\n",
      "Epoch 29/50\n",
      "67/67 [==============================] - 2s 24ms/step - loss: 0.0820 - accuracy: 0.9981 - val_loss: 1.4593 - val_accuracy: 0.6915\n",
      "Epoch 30/50\n",
      "67/67 [==============================] - 2s 24ms/step - loss: 0.0766 - accuracy: 0.9991 - val_loss: 1.4869 - val_accuracy: 0.6873\n",
      "Epoch 31/50\n",
      "67/67 [==============================] - 2s 26ms/step - loss: 0.0728 - accuracy: 0.9986 - val_loss: 1.4900 - val_accuracy: 0.6873\n",
      "Epoch 32/50\n",
      "67/67 [==============================] - 2s 30ms/step - loss: 0.0679 - accuracy: 0.9991 - val_loss: 1.4840 - val_accuracy: 0.6831\n",
      "Epoch 33/50\n",
      "67/67 [==============================] - 2s 24ms/step - loss: 0.0679 - accuracy: 0.9981 - val_loss: 1.4831 - val_accuracy: 0.6944\n",
      "Epoch 34/50\n",
      "67/67 [==============================] - 2s 24ms/step - loss: 0.1936 - accuracy: 0.9657 - val_loss: 1.1413 - val_accuracy: 0.6944\n",
      "Epoch 35/50\n",
      "67/67 [==============================] - 2s 24ms/step - loss: 0.2665 - accuracy: 0.9554 - val_loss: 0.9786 - val_accuracy: 0.6873\n",
      "Epoch 36/50\n",
      "67/67 [==============================] - 2s 24ms/step - loss: 0.1975 - accuracy: 0.9864 - val_loss: 1.3222 - val_accuracy: 0.7000\n",
      "Epoch 37/50\n",
      "67/67 [==============================] - 2s 23ms/step - loss: 0.1655 - accuracy: 0.9939 - val_loss: 1.4455 - val_accuracy: 0.6930\n",
      "Epoch 38/50\n",
      "67/67 [==============================] - 2s 24ms/step - loss: 0.1387 - accuracy: 0.9981 - val_loss: 1.4816 - val_accuracy: 0.6915\n",
      "Epoch 39/50\n",
      "67/67 [==============================] - 2s 23ms/step - loss: 0.1229 - accuracy: 0.9986 - val_loss: 1.4832 - val_accuracy: 0.7000\n",
      "Epoch 40/50\n",
      "67/67 [==============================] - 2s 23ms/step - loss: 0.1137 - accuracy: 0.9981 - val_loss: 1.4694 - val_accuracy: 0.6986\n",
      "Epoch 41/50\n",
      "67/67 [==============================] - 2s 23ms/step - loss: 0.1028 - accuracy: 0.9981 - val_loss: 1.4451 - val_accuracy: 0.7014\n",
      "Epoch 42/50\n",
      "67/67 [==============================] - 2s 24ms/step - loss: 0.0945 - accuracy: 0.9981 - val_loss: 1.4341 - val_accuracy: 0.7127\n",
      "Epoch 43/50\n",
      "67/67 [==============================] - 2s 23ms/step - loss: 0.0867 - accuracy: 0.9986 - val_loss: 1.4666 - val_accuracy: 0.7070\n",
      "Epoch 44/50\n",
      "67/67 [==============================] - 2s 24ms/step - loss: 0.0815 - accuracy: 0.9981 - val_loss: 1.4878 - val_accuracy: 0.7070\n",
      "Epoch 45/50\n",
      "67/67 [==============================] - 2s 24ms/step - loss: 0.0789 - accuracy: 0.9986 - val_loss: 1.4509 - val_accuracy: 0.7056\n",
      "Epoch 46/50\n",
      "67/67 [==============================] - 2s 23ms/step - loss: 0.0743 - accuracy: 0.9977 - val_loss: 1.4387 - val_accuracy: 0.7000\n",
      "Epoch 47/50\n",
      "67/67 [==============================] - 2s 24ms/step - loss: 0.0807 - accuracy: 0.9953 - val_loss: 1.3603 - val_accuracy: 0.7113\n",
      "Epoch 48/50\n",
      "67/67 [==============================] - 2s 24ms/step - loss: 0.0840 - accuracy: 0.9967 - val_loss: 1.4022 - val_accuracy: 0.7127\n",
      "Epoch 49/50\n",
      "67/67 [==============================] - 2s 23ms/step - loss: 0.0788 - accuracy: 0.9967 - val_loss: 1.4787 - val_accuracy: 0.7042\n",
      "Epoch 50/50\n",
      "67/67 [==============================] - 2s 23ms/step - loss: 0.0793 - accuracy: 0.9972 - val_loss: 1.5042 - val_accuracy: 0.6986\n"
     ]
    },
    {
     "data": {
      "text/plain": [
       "<keras.callbacks.History at 0x208c4daddf0>"
      ]
     },
     "execution_count": 29,
     "metadata": {},
     "output_type": "execute_result"
    }
   ],
   "source": [
    "model.fit(x=X_train, y=y_train, epochs=50 ,validation_data=(X_test, y_test))\n"
   ]
  },
  {
   "cell_type": "code",
   "execution_count": 30,
   "id": "d4e23082",
   "metadata": {},
   "outputs": [],
   "source": [
    "loss=pd.DataFrame(model.history.history)"
   ]
  },
  {
   "cell_type": "code",
   "execution_count": 31,
   "id": "1965c8e3",
   "metadata": {},
   "outputs": [
    {
     "data": {
      "text/plain": [
       "<AxesSubplot:>"
      ]
     },
     "execution_count": 31,
     "metadata": {},
     "output_type": "execute_result"
    },
    {
     "data": {
      "image/png": "[encoded data removed]",
      "text/plain": [
       "<Figure size 640x480 with 1 Axes>"
      ]
     },
     "metadata": {},
     "output_type": "display_data"
    }
   ],
   "source": [
    "loss.plot()"
   ]
  },
  {
   "cell_type": "code",
   "execution_count": 32,
   "id": "6e0f7454",
   "metadata": {},
   "outputs": [
    {
     "name": "stdout",
     "output_type": "stream",
     "text": [
      "23/23 [==============================] - 0s 6ms/step\n"
     ]
    }
   ],
   "source": [
    "pred=model.predict(X_test)"
   ]
  },
  {
   "cell_type": "code",
   "execution_count": 34,
   "id": "21ada8f8",
   "metadata": {},
   "outputs": [
    {
     "name": "stdout",
     "output_type": "stream",
     "text": [
      "              precision    recall  f1-score   support\n",
      "\n",
      "           0       0.68      0.68      0.68       332\n",
      "           1       0.72      0.72      0.72       378\n",
      "\n",
      "    accuracy                           0.70       710\n",
      "   macro avg       0.70      0.70      0.70       710\n",
      "weighted avg       0.70      0.70      0.70       710\n",
      "\n"
     ]
    }
   ],
   "source": [
    "from sklearn.metrics import confusion_matrix,classification_report\n",
    "print(classification_report(y_test,binary_pred))"
   ]
  },
  {
   "cell_type": "code",
   "execution_count": 35,
   "id": "e212ab5b",
   "metadata": {},
   "outputs": [
    {
     "name": "stdout",
     "output_type": "stream",
     "text": [
      "[[225 107]\n",
      " [107 271]]\n"
     ]
    }
   ],
   "source": [
    "binary_pred = (pred > 0.5).astype(int)\n",
    "\n",
    "# Calculate confusion matrix\n",
    "cm = confusion_matrix(y_test, binary_pred)\n",
    "print(cm)"
   ]
  },
  {
   "cell_type": "code",
   "execution_count": null,
   "id": "ea7e1176",
   "metadata": {},
   "outputs": [],
   "source": []
  },
  {
   "cell_type": "code",
   "execution_count": null,
   "id": "95528e51",
   "metadata": {},
   "outputs": [],
   "source": []
  },
  {
   "cell_type": "code",
   "execution_count": null,
   "id": "2a1bc066",
   "metadata": {},
   "outputs": [],
   "source": []
  }
 ],
 "metadata": {
  "kernelspec": {
   "display_name": "Python 3 (ipykernel)",
   "language": "python",
   "name": "python3"
  },
  "language_info": {
   "codemirror_mode": {
    "name": "ipython",
    "version": 3
   },
   "file_extension": ".py",
   "mimetype": "text/x-python",
   "name": "python",
   "nbconvert_exporter": "python",
   "pygments_lexer": "ipython3",
   "version": "3.9.13"
  }
 },
 "nbformat": 4,
 "nbformat_minor": 5
}
